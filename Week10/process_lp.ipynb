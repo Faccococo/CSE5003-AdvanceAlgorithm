{
 "cells": [
  {
   "cell_type": "code",
   "execution_count": 63,
   "metadata": {},
   "outputs": [
    {
     "name": "stdout",
     "output_type": "stream",
     "text": [
      "type of A: <class 'numpy.ndarray'>\n",
      "type of B: <class 'numpy.ndarray'>\n",
      "type of C: <class 'numpy.ndarray'>\n",
      "Shape of A: (1, 100000)\n",
      "Shape of B: (50, 100000)\n",
      "Shape of C: (50, 1)\n",
      "A: [[54 81 75 ... 77 83 14]]\n",
      "B: [[73 47 49 ... 20 82 11]\n",
      " [96 72 96 ... 43 82 86]\n",
      " [14 20 68 ... 13 53 56]\n",
      " ...\n",
      " [32 42 30 ... 43 95 56]\n",
      " [93 76 95 ... 22 85 93]\n",
      " [45 56 58 ... 19 85 69]]\n",
      "C: [[2680554]\n",
      " [5100371]\n",
      " [2254902]\n",
      " [6830696]\n",
      " [8516091]\n",
      " [3627679]\n",
      " [1144172]\n",
      " [1300470]\n",
      " [9942699]\n",
      " [4776806]\n",
      " [9119356]\n",
      " [8528564]\n",
      " [9570228]\n",
      " [6920412]\n",
      " [6467250]\n",
      " [2127474]\n",
      " [9170929]\n",
      " [4947165]\n",
      " [9478746]\n",
      " [3581730]\n",
      " [2369114]\n",
      " [1708640]\n",
      " [9432686]\n",
      " [8359428]\n",
      " [9894115]\n",
      " [8751678]\n",
      " [5924319]\n",
      " [2214708]\n",
      " [2007516]\n",
      " [2906428]\n",
      " [1686951]\n",
      " [4403697]\n",
      " [9334083]\n",
      " [4211271]\n",
      " [6035979]\n",
      " [5064067]\n",
      " [4694147]\n",
      " [3766720]\n",
      " [8469522]\n",
      " [1250489]\n",
      " [6277403]\n",
      " [6814798]\n",
      " [8070130]\n",
      " [3237071]\n",
      " [6240135]\n",
      " [3460445]\n",
      " [2497821]\n",
      " [4115520]\n",
      " [2866468]\n",
      " [6805510]]\n"
     ]
    }
   ],
   "source": [
    "import scipy.io\n",
    "from scipy.optimize import linprog\n",
    "import time\n",
    "\n",
    "# Load the .mat file\n",
    "mat_data = scipy.io.loadmat('./LP/instance_medium.mat')\n",
    "\n",
    "# Extract matrices A, B, and C\n",
    "A = mat_data.get('A')\n",
    "B = mat_data.get('B')\n",
    "C = mat_data.get('C')\n",
    "\n",
    "# Verify shapes of the matrices\n",
    "print(f\"type of A: {type(A)}\")\n",
    "print(f\"type of B: {type(B)}\")\n",
    "print(f\"type of C: {type(C)}\")\n",
    "print(f\"Shape of A: {A.shape}\")\n",
    "print(f\"Shape of B: {B.shape}\")\n",
    "print(f\"Shape of C: {C.shape}\")\n",
    "print(f\"A: {A}\")\n",
    "print(f\"B: {B}\")\n",
    "print(f\"C: {C}\")\n"
   ]
  },
  {
   "cell_type": "code",
   "execution_count": 64,
   "metadata": {},
   "outputs": [
    {
     "data": {
      "text/plain": [
       "array([-54, -81, -75, ..., -77, -83, -14])"
      ]
     },
     "execution_count": 64,
     "metadata": {},
     "output_type": "execute_result"
    }
   ],
   "source": [
    "\n",
    "# Linear programming problem formulation\n",
    "# Objective function: maximize A @ x -> equivalent to minimize -A @ x\n",
    "c = -(A.astype(int).flatten())\n",
    "c"
   ]
  },
  {
   "cell_type": "code",
   "execution_count": 65,
   "metadata": {},
   "outputs": [],
   "source": [
    "\n",
    "# Constraints: B @ x <= C, x >= 0\n",
    "A_ub = B\n",
    "b_ub = C.flatten()\n",
    "\n",
    "# Bounds for variables: x_i >= 0\n",
    "x_bounds = [(0, None) for _ in range(A.shape[1])]\n",
    "\n"
   ]
  },
  {
   "cell_type": "code",
   "execution_count": 66,
   "metadata": {},
   "outputs": [
    {
     "name": "stderr",
     "output_type": "stream",
     "text": [
      "/tmp/ipykernel_2623286/1597076494.py:3: DeprecationWarning: `method='interior-point'` is deprecated and will be removed in SciPy 1.11.0. Please use one of the HiGHS solvers (e.g. `method='highs'`) in new code.\n",
      "  result = linprog(c, A_ub=A_ub, b_ub=b_ub, bounds=x_bounds, method='interior-point')\n"
     ]
    },
    {
     "name": "stdout",
     "output_type": "stream",
     "text": [
      "Time taken: 1.5281 seconds\n",
      "Optimal value found: 5653427.098690189\n",
      "Optimal solution x: [1.37125503e-10 1.99513389e-10 2.96369471e-10 ... 2.93221426e-10\n",
      " 2.86781819e-10 1.18773660e-10]\n"
     ]
    }
   ],
   "source": [
    "start = time.time()\n",
    "# Solve the linear programming problem\n",
    "result = linprog(c, A_ub=A_ub, b_ub=b_ub, bounds=x_bounds, method='interior-point')\n",
    "end = time.time()\n",
    "print(f\"Time taken: {end - start:.4f} seconds\")\n",
    "# Print the result\n",
    "if result.success:\n",
    "    print(\"Optimal value found:\", -result.fun)\n",
    "    print(\"Optimal solution x:\", result.x)\n",
    "else:\n",
    "    print(\"Optimization failed:\", result.message)"
   ]
  }
 ],
 "metadata": {
  "kernelspec": {
   "display_name": "base",
   "language": "python",
   "name": "python3"
  },
  "language_info": {
   "codemirror_mode": {
    "name": "ipython",
    "version": 3
   },
   "file_extension": ".py",
   "mimetype": "text/x-python",
   "name": "python",
   "nbconvert_exporter": "python",
   "pygments_lexer": "ipython3",
   "version": "3.12.4"
  }
 },
 "nbformat": 4,
 "nbformat_minor": 2
}
