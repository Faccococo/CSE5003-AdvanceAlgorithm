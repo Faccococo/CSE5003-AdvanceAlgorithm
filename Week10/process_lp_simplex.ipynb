{
 "cells": [
  {
   "cell_type": "code",
   "execution_count": 9,
   "metadata": {},
   "outputs": [
    {
     "name": "stdout",
     "output_type": "stream",
     "text": [
      "type of A: <class 'numpy.ndarray'>\n",
      "type of B: <class 'numpy.ndarray'>\n",
      "type of C: <class 'numpy.ndarray'>\n",
      "Shape of A: (1, 1000000)\n",
      "Shape of B: (100, 1000000)\n",
      "Shape of C: (100, 1)\n",
      "A: [[37 55 41 ... 16 90 71]]\n",
      "B: [[ 83  84  44 ...  53  50  62]\n",
      " [ 34 100  98 ...  30  62  35]\n",
      " [ 54  70  69 ...  38  98  59]\n",
      " ...\n",
      " [ 23  41  78 ...  96  56  81]\n",
      " [ 65  46  90 ...  73  32  64]\n",
      " [ 89  78  38 ...  73  67  17]]\n",
      "C: [[12038658]\n",
      " [46825775]\n",
      " [41136369]\n",
      " [78973223]\n",
      " [97898014]\n",
      " [37456508]\n",
      " [96549190]\n",
      " [49164002]\n",
      " [38780928]\n",
      " [98167087]\n",
      " [31221684]\n",
      " [55520153]\n",
      " [35110394]\n",
      " [88383018]\n",
      " [72691868]\n",
      " [58017731]\n",
      " [68871275]\n",
      " [48166966]\n",
      " [38311167]\n",
      " [44648877]\n",
      " [55949581]\n",
      " [29450436]\n",
      " [87375398]\n",
      " [92144779]\n",
      " [62273035]\n",
      " [68659373]\n",
      " [39892017]\n",
      " [54594935]\n",
      " [45637113]\n",
      " [52916676]\n",
      " [43577361]\n",
      " [97984929]\n",
      " [89776730]\n",
      " [55859370]\n",
      " [22167385]\n",
      " [65623121]\n",
      " [29411588]\n",
      " [30400363]\n",
      " [23257618]\n",
      " [48520708]\n",
      " [11265594]\n",
      " [26761924]\n",
      " [76742201]\n",
      " [61686975]\n",
      " [32106756]\n",
      " [24941538]\n",
      " [54100231]\n",
      " [46930431]\n",
      " [54653924]\n",
      " [83822627]\n",
      " [12887141]\n",
      " [51065357]\n",
      " [45565949]\n",
      " [70920548]\n",
      " [67724891]\n",
      " [19278210]\n",
      " [45113160]\n",
      " [75221575]\n",
      " [18418033]\n",
      " [22122207]\n",
      " [87197634]\n",
      " [30291092]\n",
      " [36814403]\n",
      " [68683426]\n",
      " [58974567]\n",
      " [62885572]\n",
      " [55437906]\n",
      " [83856357]\n",
      " [25625366]\n",
      " [11392960]\n",
      " [83308349]\n",
      " [40232858]\n",
      " [20005412]\n",
      " [51788295]\n",
      " [87604220]\n",
      " [85140436]\n",
      " [48521127]\n",
      " [34156134]\n",
      " [79472927]\n",
      " [65228278]\n",
      " [45664625]\n",
      " [28610972]\n",
      " [95395946]\n",
      " [80763546]\n",
      " [40303167]\n",
      " [97359754]\n",
      " [89506585]\n",
      " [47238061]\n",
      " [21378482]\n",
      " [24228424]\n",
      " [58689898]\n",
      " [75741383]\n",
      " [58994934]\n",
      " [59186105]\n",
      " [92368882]\n",
      " [64111587]\n",
      " [22186943]\n",
      " [63436532]\n",
      " [76757684]\n",
      " [57191262]]\n"
     ]
    }
   ],
   "source": [
    "import scipy.io\n",
    "from scipy.optimize import linprog\n",
    "import time\n",
    "\n",
    "# Load the .mat file\n",
    "mat_data = scipy.io.loadmat('./LP/instance_large.mat')\n",
    "\n",
    "# Extract matrices A, B, and C\n",
    "A = mat_data.get('A')\n",
    "B = mat_data.get('B')\n",
    "C = mat_data.get('C')\n",
    "\n",
    "# Verify shapes of the matrices\n",
    "print(f\"type of A: {type(A)}\")\n",
    "print(f\"type of B: {type(B)}\")\n",
    "print(f\"type of C: {type(C)}\")\n",
    "print(f\"Shape of A: {A.shape}\")\n",
    "print(f\"Shape of B: {B.shape}\")\n",
    "print(f\"Shape of C: {C.shape}\")\n",
    "print(f\"A: {A}\")\n",
    "print(f\"B: {B}\")\n",
    "print(f\"C: {C}\")\n"
   ]
  },
  {
   "cell_type": "code",
   "execution_count": 10,
   "metadata": {},
   "outputs": [
    {
     "data": {
      "text/plain": [
       "array([-37, -55, -41, ..., -16, -90, -71])"
      ]
     },
     "execution_count": 10,
     "metadata": {},
     "output_type": "execute_result"
    }
   ],
   "source": [
    "\n",
    "# Linear programming problem formulation\n",
    "# Objective function: maximize A @ x -> equivalent to minimize -A @ x\n",
    "c = -(A.astype(int).flatten())\n",
    "c"
   ]
  },
  {
   "cell_type": "code",
   "execution_count": 11,
   "metadata": {},
   "outputs": [],
   "source": [
    "\n",
    "# Constraints: B @ x <= C, x >= 0\n",
    "A_ub = B\n",
    "b_ub = C.flatten()\n",
    "\n",
    "# Bounds for variables: x_i >= 0\n",
    "x_bounds = [(0, None) for _ in range(A.shape[1])]\n",
    "\n"
   ]
  },
  {
   "cell_type": "code",
   "execution_count": 12,
   "metadata": {},
   "outputs": [
    {
     "name": "stderr",
     "output_type": "stream",
     "text": [
      "/tmp/ipykernel_2632406/1597076494.py:3: DeprecationWarning: `method='interior-point'` is deprecated and will be removed in SciPy 1.11.0. Please use one of the HiGHS solvers (e.g. `method='highs'`) in new code.\n",
      "  result = linprog(c, A_ub=A_ub, b_ub=b_ub, bounds=x_bounds, method='interior-point')\n"
     ]
    },
    {
     "name": "stdout",
     "output_type": "stream",
     "text": [
      "Time taken: 58.5074 seconds\n",
      "Optimization failed: The solution does not satisfy the constraints within the required tolerance of 3.16E-04, yet no errors were raised and there is no certificate of infeasibility or unboundedness. Check whether the slack and constraint residuals are acceptable; if not, consider enabling presolve, adjusting the tolerance option(s), and/or using a different method. Please consider submitting a bug report.\n"
     ]
    }
   ],
   "source": [
    "start = time.time()\n",
    "# Solve the linear programming problem\n",
    "result = linprog(c, A_ub=A_ub, b_ub=b_ub, bounds=x_bounds, method='interior-point')\n",
    "end = time.time()\n",
    "print(f\"Time taken: {end - start:.4f} seconds\")\n",
    "# Print the result\n",
    "if result.success:\n",
    "    print(\"Optimal value found:\", -result.fun)\n",
    "    print(\"Optimal solution x:\", result.x)\n",
    "else:\n",
    "    print(\"Optimization failed:\", result.message)"
   ]
  }
 ],
 "metadata": {
  "kernelspec": {
   "display_name": "base",
   "language": "python",
   "name": "python3"
  },
  "language_info": {
   "codemirror_mode": {
    "name": "ipython",
    "version": 3
   },
   "file_extension": ".py",
   "mimetype": "text/x-python",
   "name": "python",
   "nbconvert_exporter": "python",
   "pygments_lexer": "ipython3",
   "version": "3.12.4"
  }
 },
 "nbformat": 4,
 "nbformat_minor": 2
}
